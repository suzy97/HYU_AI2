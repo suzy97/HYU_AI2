{
  "nbformat": 4,
  "nbformat_minor": 0,
  "metadata": {
    "colab": {
      "provenance": [],
      "gpuType": "T4",
      "authorship_tag": "ABX9TyPKxBIl3pSlyLRbAg7kSXsH",
      "include_colab_link": true
    },
    "kernelspec": {
      "name": "python3",
      "display_name": "Python 3"
    },
    "language_info": {
      "name": "python"
    },
    "accelerator": "GPU"
  },
  "cells": [
    {
      "cell_type": "markdown",
      "metadata": {
        "id": "view-in-github",
        "colab_type": "text"
      },
      "source": [
        "<a href=\"https://colab.research.google.com/github/suzy97/HYU_AI2/blob/main/SujiBaek_ICT4010_Assignment1.ipynb\" target=\"_parent\"><img src=\"https://colab.research.google.com/assets/colab-badge.svg\" alt=\"Open In Colab\"/></a>"
      ]
    },
    {
      "cell_type": "code",
      "execution_count": 2,
      "metadata": {
        "id": "oW-Jr7CIEkam"
      },
      "outputs": [],
      "source": [
        "import os # 파이썬을 이용해 파일을 복사하거나 디렉터리를 생성하고 특정 디렉터리 내의 파일 목록을 구하고자 할 때 사용\n",
        "import numpy as np\n",
        "import pandas as pd\n",
        "import matplotlib.pyplot as plt\n",
        "import torch\n",
        "import torchvision # torchvision package : 컴퓨터 비전을 위한 유명 데이터셋, 모델 아키텍처, 이미지 변형등을 포함\n",
        "import torch.nn as nn # nn : neural netwroks (define class) attribute를 활용해 state를 저장하고 활용\n",
        "import torch.optim as optim # 최적화 알고리즘\n",
        "import torch.nn.functional as F # (define function) 인스턴스화 시킬 필요없이 사용 가능\n",
        "from PIL import Image\n",
        "from torchvision import transforms, datasets # transforms : 데이터를 조작하고 학습에 적합하게 만듦.\n",
        "from torch.utils.data import Dataset, DataLoader\n",
        "# dataset : 샘플과 정답(label)을 저장\n",
        "# DataLoader : Dataset 을 샘플에 쉽게 접근할 수 있도록 순회 가능한 객체(iterable)로 감싼다."
      ]
    },
    {
      "cell_type": "code",
      "source": [
        "epochs = 10 # 훈련 반복수\n",
        "batch_size = 512 # 배치 크기\n",
        "\n",
        "device = (\"cuda\" if torch.cuda.is_available() else \"cpu\") # device 정의\n",
        "class_names = ['T-shirt/top', 'Trouser', 'Pullover', 'Dress', 'Coat',\n",
        "               'Sandal', 'Shirt', 'Sneaker', 'Bag', 'Ankle boot'] # 총 10개의 클래스\n",
        "\n",
        "print(torch.__version__)\n",
        "print(device)\n",
        "\n",
        "# 결과\n",
        "# 2.0.1+cu118\n",
        "# cuda\n"
      ],
      "metadata": {
        "colab": {
          "base_uri": "https://localhost:8080/"
        },
        "id": "OKmfr5boKw7C",
        "outputId": "94fe309f-baf5-4e29-c3cd-6cf3e76d270a"
      },
      "execution_count": 30,
      "outputs": [
        {
          "output_type": "stream",
          "name": "stdout",
          "text": [
            "2.0.1+cu118\n",
            "cuda\n"
          ]
        }
      ]
    },
    {
      "cell_type": "code",
      "source": [
        "#데이터 셋 준비\n",
        "transform = transforms.Compose([\n",
        "    transforms.Resize(227), # Compose : transforms 리스트 구성\n",
        "    # 227x227 : input image(in alexnet) but fashionMNIST's input image : 28x28\n",
        "    transforms.ToTensor()]) # ToTensor : PIL image or numpy.ndarray를 tensor로 바꿈\n",
        "\n",
        "training_data = datasets.FashionMNIST(\n",
        "    root=\"data\", # data가 저장될 경로(path)\n",
        "    train=True, # training dataset\n",
        "    download=True, # 인터넷으로부터 데이터 다운\n",
        "    transform=transform # feature 및 label 변환(transformation) 지정\n",
        ")\n",
        "\n",
        "validation_data = datasets.FashionMNIST(\n",
        "    root=\"data\",\n",
        "    train=False, # test dataset\n",
        "    download=True,\n",
        "    transform=transform\n",
        ")"
      ],
      "metadata": {
        "id": "s-XQj9Y4KzI2"
      },
      "execution_count": 31,
      "outputs": []
    },
    {
      "cell_type": "code",
      "source": [
        "training_data"
      ],
      "metadata": {
        "colab": {
          "base_uri": "https://localhost:8080/"
        },
        "id": "5OGRQcNxQMpa",
        "outputId": "582a1df6-4585-47ed-9b5d-10ce0e565cd0"
      },
      "execution_count": 59,
      "outputs": [
        {
          "output_type": "execute_result",
          "data": {
            "text/plain": [
              "Dataset FashionMNIST\n",
              "    Number of datapoints: 60000\n",
              "    Root location: data\n",
              "    Split: Train\n",
              "    StandardTransform\n",
              "Transform: Compose(\n",
              "               Resize(size=227, interpolation=bilinear, max_size=None, antialias=warn)\n",
              "               ToTensor()\n",
              "           )"
            ]
          },
          "metadata": {},
          "execution_count": 59
        }
      ]
    },
    {
      "cell_type": "code",
      "source": [
        "validation_data"
      ],
      "metadata": {
        "colab": {
          "base_uri": "https://localhost:8080/"
        },
        "id": "WPmZJV5HQPEi",
        "outputId": "bb78099f-228b-4062-9085-92ddb83bbea5"
      },
      "execution_count": 60,
      "outputs": [
        {
          "output_type": "execute_result",
          "data": {
            "text/plain": [
              "Dataset FashionMNIST\n",
              "    Number of datapoints: 10000\n",
              "    Root location: data\n",
              "    Split: Test\n",
              "    StandardTransform\n",
              "Transform: Compose(\n",
              "               Resize(size=227, interpolation=bilinear, max_size=None, antialias=warn)\n",
              "               ToTensor()\n",
              "           )"
            ]
          },
          "metadata": {},
          "execution_count": 60
        }
      ]
    },
    {
      "cell_type": "code",
      "source": [
        "#Data Loader\n",
        "# (class) DataLoader(dataset, batch_size, shuffle, ...)\n",
        "training_loader = DataLoader(training_data, batch_size=64, shuffle=True)\n",
        "validation_loader = DataLoader(validation_data, batch_size=64, shuffle=True)"
      ],
      "metadata": {
        "id": "5xEoO5JxK8OW"
      },
      "execution_count": 5,
      "outputs": []
    },
    {
      "cell_type": "code",
      "source": [
        "#Image Check\n",
        "# helper function to show an image\n",
        "def matplotlib_imshow(img):\n",
        "    img = img.mean(dim=0)\n",
        "    img = img / 2 + 0.5\n",
        "    npimg = img.numpy()\n",
        "    plt.imshow(npimg, cmap=\"Greys\")\n",
        "\n",
        "# get some random training images\n",
        "#dataiter = iter(training_loader) # iter(호출가능한객체, 반복을끝낼값)\n",
        "#images, labels = dataiter.next() # next() : 반복할 수 있을 때는 해당 값을 출력하고, 반복이 끝났을 때는 기본값을 출력\n",
        "\n",
        "\n",
        "# create grid of images\n",
        "img_grid = torchvision.utils.make_grid(images[0]) # make_grid : 이미지의 그리드 생성\n",
        "\n",
        "# show images & labels\n",
        "matplotlib_imshow(img_grid)\n",
        "print(class_names[labels[0]])"
      ],
      "metadata": {
        "colab": {
          "base_uri": "https://localhost:8080/",
          "height": 453
        },
        "id": "rxgcR12pLGiA",
        "outputId": "a4f5b27f-b538-46dd-d939-205fa9859b5a"
      },
      "execution_count": 67,
      "outputs": [
        {
          "output_type": "stream",
          "name": "stdout",
          "text": [
            "Shirt\n"
          ]
        },
        {
          "output_type": "display_data",
          "data": {
            "text/plain": [
              "<Figure size 640x480 with 1 Axes>"
            ],
            "image/png": "[encoded data removed]"
          },
          "metadata": {}
        }
      ]
    },
    {
      "cell_type": "code",
      "source": [
        "class AlexNet_Fashion_MNIST(nn.Module):\n",
        "    def __init__(self):\n",
        "        super().__init__()\n",
        "        self.conv1 = nn.Sequential(\n",
        "            nn.Conv2d(in_channels=1, out_channels=96, kernel_size=11, stride=4, padding=0),\n",
        "            nn.ReLU(),\n",
        "            nn.MaxPool2d(kernel_size=3, stride=2)\n",
        "        )\n",
        "        self.conv2 = nn.Sequential(\n",
        "            nn.Conv2d(96, 256, 5, 1, 2),\n",
        "            nn.ReLU(),\n",
        "            nn.MaxPool2d(3, 2)\n",
        "        )\n",
        "        self.conv3 = nn.Sequential(\n",
        "            nn.Conv2d(256, 384, 3, 1, 1),\n",
        "            nn.ReLU()\n",
        "        )\n",
        "        self.conv4 = nn.Sequential(\n",
        "            nn.Conv2d(384, 384, 3, 1, 1),\n",
        "            nn.ReLU()\n",
        "        )\n",
        "        self.conv5 = nn.Sequential(\n",
        "            nn.Conv2d(384, 256, 3, 1, 1),\n",
        "            nn.ReLU(),\n",
        "            nn.MaxPool2d(3, 2)\n",
        "        )\n",
        "\n",
        "        self.fc1 = nn.Linear(256 * 6 * 6, 4096)\n",
        "        self.fc2 = nn.Linear(4096, 4096)\n",
        "        self.fc3 = nn.Linear(4096, 10)\n",
        "\n",
        "    def forward(self, x):\n",
        "        out = self.conv1(x)\n",
        "        out = self.conv2(out)\n",
        "        out = self.conv3(out)\n",
        "        out = self.conv4(out)\n",
        "        out = self.conv5(out)\n",
        "        out = out.view(out.size(0), -1)\n",
        "\n",
        "        out = F.relu(self.fc1(out))  # 256*6*6 -> 4096\n",
        "        out = F.dropout(out, 0.5)\n",
        "        out = F.relu(self.fc2(out))\n",
        "        out = F.dropout(out, 0.5)\n",
        "        out = self.fc3(out)\n",
        "        out = F.log_softmax(out, dim=1)\n",
        "\n",
        "        return out\n"
      ],
      "metadata": {
        "id": "GWRsXcy1N4Kv"
      },
      "execution_count": 115,
      "outputs": []
    },
    {
      "cell_type": "code",
      "source": [
        "model = AlexNet_Fashion_MNIST().to(device) # to()로 모델에 gpu 사용\n",
        "criterion = F.nll_loss\n",
        "optimizer = optim.Adam(model.parameters()) # model(신경망) 파라미터를 optimizer에 전달해줄 때 nn.Module의 parameters() 메소드를 사용\n"
      ],
      "metadata": {
        "id": "ZEoJ-0Q9BVsU"
      },
      "execution_count": 116,
      "outputs": []
    },
    {
      "cell_type": "code",
      "source": [
        "from torchsummary import summary as summary_\n",
        "\n",
        "summary_(model, (1,227,227))\n"
      ],
      "metadata": {
        "colab": {
          "base_uri": "https://localhost:8080/"
        },
        "id": "WidFrezxBX4Y",
        "outputId": "28925a30-fbbb-48b1-adab-87dc6eb00bbb"
      },
      "execution_count": 117,
      "outputs": [
        {
          "output_type": "stream",
          "name": "stdout",
          "text": [
            "----------------------------------------------------------------\n",
            "        Layer (type)               Output Shape         Param #\n",
            "================================================================\n",
            "            Conv2d-1           [-1, 96, 55, 55]          11,712\n",
            "              ReLU-2           [-1, 96, 55, 55]               0\n",
            "         MaxPool2d-3           [-1, 96, 27, 27]               0\n",
            "            Conv2d-4          [-1, 256, 27, 27]         614,656\n",
            "              ReLU-5          [-1, 256, 27, 27]               0\n",
            "         MaxPool2d-6          [-1, 256, 13, 13]               0\n",
            "            Conv2d-7          [-1, 384, 13, 13]         885,120\n",
            "              ReLU-8          [-1, 384, 13, 13]               0\n",
            "            Conv2d-9          [-1, 384, 13, 13]       1,327,488\n",
            "             ReLU-10          [-1, 384, 13, 13]               0\n",
            "           Conv2d-11          [-1, 256, 13, 13]         884,992\n",
            "             ReLU-12          [-1, 256, 13, 13]               0\n",
            "        MaxPool2d-13            [-1, 256, 6, 6]               0\n",
            "           Linear-14                 [-1, 4096]      37,752,832\n",
            "           Linear-15                 [-1, 4096]      16,781,312\n",
            "           Linear-16                   [-1, 10]          40,970\n",
            "================================================================\n",
            "Total params: 58,299,082\n",
            "Trainable params: 58,299,082\n",
            "Non-trainable params: 0\n",
            "----------------------------------------------------------------\n",
            "Input size (MB): 0.20\n",
            "Forward/backward pass size (MB): 10.92\n",
            "Params size (MB): 222.39\n",
            "Estimated Total Size (MB): 233.51\n",
            "----------------------------------------------------------------\n"
          ]
        }
      ]
    },
    {
      "cell_type": "code",
      "source": [
        "def train(model, device, train_loader, optimizer, epoch):\n",
        "    model.train()\n",
        "    for batch_idx, (data, target) in enumerate(train_loader):\n",
        "        # enumberate() : 인덱스와 원소로 이루어진 튜플(tuple)을 만들어줌\n",
        "        target = target.type(torch.LongTensor)\n",
        "        data, target = data.to(device), target.to(device)\n",
        "        optimizer.zero_grad() # 항상 backpropagation 하기전에 미분(gradient)을 zero로 만들어주고 시작해야 한다.\n",
        "        output = model(data)\n",
        "        loss = criterion(output, target) # criterion = loss_fn\n",
        "        loss.backward() # Computes the gradient of current tensor w.r.t. graph leaves\n",
        "        optimizer.step() # step() : 파라미터를 업데이트함\n",
        "        if (batch_idx) % 100 == 0:\n",
        "            print(\"Train Epoch:{} [{}/{} ({:.0f}%)]\\tLoss: {:.6f}\".format(\n",
        "                epoch, batch_idx * len(data), len(train_loader.dataset),\n",
        "                100. * batch_idx / len(train_loader), loss.item()))\n"
      ],
      "metadata": {
        "id": "FDEhBMAXBZsD"
      },
      "execution_count": 124,
      "outputs": []
    },
    {
      "cell_type": "code",
      "source": [
        "def test(model, device, test_loader):\n",
        "    model.eval()\n",
        "    test_loss = 0\n",
        "    correct = 0\n",
        "    with torch.no_grad():\n",
        "        for data, target in test_loader:\n",
        "            data, target = data.to(device), target.to(device)\n",
        "            output = model(data)\n",
        "            test_loss += criterion(output, target, reduction='sum').item()\n",
        "            pred = output.max(1, keepdim=True)[1]\n",
        "            correct += pred.eq(target.view_as(pred)).sum().item()\n",
        "        #print test_loss & accuracy\n",
        "        test_loss /= len(test_loader.dataset)  # -> mean\n",
        "        print(\"\\nTest set: Average loss: {:.4f}, Accuracy: {}/{} ({:.0f}%)\\n\".format(\n",
        "            test_loss, correct, len(test_loader.dataset), 100. * correct / len(test_loader.dataset)))\n",
        "        print('='*50)\n"
      ],
      "metadata": {
        "id": "PyyTaakSBcsN"
      },
      "execution_count": 125,
      "outputs": []
    },
    {
      "cell_type": "code",
      "source": [
        "for epoch in range(1, epochs+1):\n",
        "    train(model, device, training_loader, optimizer, epoch)\n",
        "    test(model, device, validation_loader)\n"
      ],
      "metadata": {
        "colab": {
          "base_uri": "https://localhost:8080/"
        },
        "id": "Gu1213mkBeT9",
        "outputId": "096cbdbc-0bcf-4a76-a11d-18683250bb0f"
      },
      "execution_count": 126,
      "outputs": [
        {
          "output_type": "stream",
          "name": "stdout",
          "text": [
            "Train Epoch:1 [0/60000 (0%)]\tLoss: 0.239006\n",
            "Train Epoch:1 [6400/60000 (11%)]\tLoss: 0.174198\n",
            "Train Epoch:1 [12800/60000 (21%)]\tLoss: 0.243132\n",
            "Train Epoch:1 [19200/60000 (32%)]\tLoss: 0.222775\n",
            "Train Epoch:1 [25600/60000 (43%)]\tLoss: 0.317593\n",
            "Train Epoch:1 [32000/60000 (53%)]\tLoss: 0.254431\n",
            "Train Epoch:1 [38400/60000 (64%)]\tLoss: 0.431509\n",
            "Train Epoch:1 [44800/60000 (75%)]\tLoss: 0.457853\n",
            "Train Epoch:1 [51200/60000 (85%)]\tLoss: 0.178561\n",
            "Train Epoch:1 [57600/60000 (96%)]\tLoss: 0.464364\n",
            "\n",
            "Test set: Average loss: 0.2975, Accuracy: 8938/10000 (89%)\n",
            "\n",
            "==================================================\n",
            "Train Epoch:2 [0/60000 (0%)]\tLoss: 0.245322\n",
            "Train Epoch:2 [6400/60000 (11%)]\tLoss: 0.292069\n",
            "Train Epoch:2 [12800/60000 (21%)]\tLoss: 0.289268\n",
            "Train Epoch:2 [19200/60000 (32%)]\tLoss: 0.194659\n",
            "Train Epoch:2 [25600/60000 (43%)]\tLoss: 0.186853\n",
            "Train Epoch:2 [32000/60000 (53%)]\tLoss: 0.402479\n",
            "Train Epoch:2 [38400/60000 (64%)]\tLoss: 0.148045\n",
            "Train Epoch:2 [44800/60000 (75%)]\tLoss: 0.675111\n",
            "Train Epoch:2 [51200/60000 (85%)]\tLoss: 0.325495\n",
            "Train Epoch:2 [57600/60000 (96%)]\tLoss: 0.238445\n",
            "\n",
            "Test set: Average loss: 0.2964, Accuracy: 8909/10000 (89%)\n",
            "\n",
            "==================================================\n",
            "Train Epoch:3 [0/60000 (0%)]\tLoss: 0.275853\n",
            "Train Epoch:3 [6400/60000 (11%)]\tLoss: 0.196385\n",
            "Train Epoch:3 [12800/60000 (21%)]\tLoss: 0.071551\n",
            "Train Epoch:3 [19200/60000 (32%)]\tLoss: 0.343839\n",
            "Train Epoch:3 [25600/60000 (43%)]\tLoss: 0.107102\n",
            "Train Epoch:3 [32000/60000 (53%)]\tLoss: 0.275979\n",
            "Train Epoch:3 [38400/60000 (64%)]\tLoss: 0.235122\n",
            "Train Epoch:3 [44800/60000 (75%)]\tLoss: 0.263042\n",
            "Train Epoch:3 [51200/60000 (85%)]\tLoss: 0.398588\n",
            "Train Epoch:3 [57600/60000 (96%)]\tLoss: 0.176254\n",
            "\n",
            "Test set: Average loss: 0.3381, Accuracy: 8821/10000 (88%)\n",
            "\n",
            "==================================================\n",
            "Train Epoch:4 [0/60000 (0%)]\tLoss: 0.203299\n",
            "Train Epoch:4 [6400/60000 (11%)]\tLoss: 0.188112\n",
            "Train Epoch:4 [12800/60000 (21%)]\tLoss: 0.205353\n",
            "Train Epoch:4 [19200/60000 (32%)]\tLoss: 0.361851\n",
            "Train Epoch:4 [25600/60000 (43%)]\tLoss: 0.155743\n",
            "Train Epoch:4 [32000/60000 (53%)]\tLoss: 0.466316\n",
            "Train Epoch:4 [38400/60000 (64%)]\tLoss: 0.157035\n",
            "Train Epoch:4 [44800/60000 (75%)]\tLoss: 0.248016\n",
            "Train Epoch:4 [51200/60000 (85%)]\tLoss: 0.083007\n",
            "Train Epoch:4 [57600/60000 (96%)]\tLoss: 0.320217\n",
            "\n",
            "Test set: Average loss: 0.2843, Accuracy: 8984/10000 (90%)\n",
            "\n",
            "==================================================\n",
            "Train Epoch:5 [0/60000 (0%)]\tLoss: 0.172391\n",
            "Train Epoch:5 [6400/60000 (11%)]\tLoss: 0.199386\n",
            "Train Epoch:5 [12800/60000 (21%)]\tLoss: 0.302848\n",
            "Train Epoch:5 [19200/60000 (32%)]\tLoss: 0.057046\n",
            "Train Epoch:5 [25600/60000 (43%)]\tLoss: 0.189056\n",
            "Train Epoch:5 [32000/60000 (53%)]\tLoss: 0.222102\n",
            "Train Epoch:5 [38400/60000 (64%)]\tLoss: 0.219092\n",
            "Train Epoch:5 [44800/60000 (75%)]\tLoss: 0.272469\n",
            "Train Epoch:5 [51200/60000 (85%)]\tLoss: 0.193875\n",
            "Train Epoch:5 [57600/60000 (96%)]\tLoss: 0.216325\n",
            "\n",
            "Test set: Average loss: 0.2776, Accuracy: 9029/10000 (90%)\n",
            "\n",
            "==================================================\n",
            "Train Epoch:6 [0/60000 (0%)]\tLoss: 0.190098\n",
            "Train Epoch:6 [6400/60000 (11%)]\tLoss: 0.135342\n",
            "Train Epoch:6 [12800/60000 (21%)]\tLoss: 0.272552\n",
            "Train Epoch:6 [19200/60000 (32%)]\tLoss: 0.201763\n",
            "Train Epoch:6 [25600/60000 (43%)]\tLoss: 0.290950\n",
            "Train Epoch:6 [32000/60000 (53%)]\tLoss: 0.133556\n",
            "Train Epoch:6 [38400/60000 (64%)]\tLoss: 0.142752\n",
            "Train Epoch:6 [44800/60000 (75%)]\tLoss: 0.285567\n",
            "Train Epoch:6 [51200/60000 (85%)]\tLoss: 0.289776\n",
            "Train Epoch:6 [57600/60000 (96%)]\tLoss: 0.270576\n",
            "\n",
            "Test set: Average loss: 0.2615, Accuracy: 9069/10000 (91%)\n",
            "\n",
            "==================================================\n",
            "Train Epoch:7 [0/60000 (0%)]\tLoss: 0.232599\n",
            "Train Epoch:7 [6400/60000 (11%)]\tLoss: 0.073324\n",
            "Train Epoch:7 [12800/60000 (21%)]\tLoss: 0.147744\n",
            "Train Epoch:7 [19200/60000 (32%)]\tLoss: 0.094627\n",
            "Train Epoch:7 [25600/60000 (43%)]\tLoss: 0.155684\n",
            "Train Epoch:7 [32000/60000 (53%)]\tLoss: 0.120029\n",
            "Train Epoch:7 [38400/60000 (64%)]\tLoss: 0.079868\n",
            "Train Epoch:7 [44800/60000 (75%)]\tLoss: 0.189039\n",
            "Train Epoch:7 [51200/60000 (85%)]\tLoss: 0.225304\n",
            "Train Epoch:7 [57600/60000 (96%)]\tLoss: 0.198135\n",
            "\n",
            "Test set: Average loss: 0.2719, Accuracy: 9081/10000 (91%)\n",
            "\n",
            "==================================================\n",
            "Train Epoch:8 [0/60000 (0%)]\tLoss: 0.263989\n",
            "Train Epoch:8 [6400/60000 (11%)]\tLoss: 0.137426\n",
            "Train Epoch:8 [12800/60000 (21%)]\tLoss: 0.436796\n",
            "Train Epoch:8 [19200/60000 (32%)]\tLoss: 0.049592\n",
            "Train Epoch:8 [25600/60000 (43%)]\tLoss: 0.214002\n",
            "Train Epoch:8 [32000/60000 (53%)]\tLoss: 0.128042\n",
            "Train Epoch:8 [38400/60000 (64%)]\tLoss: 0.277499\n",
            "Train Epoch:8 [44800/60000 (75%)]\tLoss: 0.223822\n",
            "Train Epoch:8 [51200/60000 (85%)]\tLoss: 0.212213\n",
            "Train Epoch:8 [57600/60000 (96%)]\tLoss: 0.161995\n",
            "\n",
            "Test set: Average loss: 0.2759, Accuracy: 9090/10000 (91%)\n",
            "\n",
            "==================================================\n",
            "Train Epoch:9 [0/60000 (0%)]\tLoss: 0.088746\n",
            "Train Epoch:9 [6400/60000 (11%)]\tLoss: 0.159847\n",
            "Train Epoch:9 [12800/60000 (21%)]\tLoss: 0.170491\n",
            "Train Epoch:9 [19200/60000 (32%)]\tLoss: 0.315698\n",
            "Train Epoch:9 [25600/60000 (43%)]\tLoss: 0.223942\n",
            "Train Epoch:9 [32000/60000 (53%)]\tLoss: 0.235277\n",
            "Train Epoch:9 [38400/60000 (64%)]\tLoss: 0.127566\n",
            "Train Epoch:9 [44800/60000 (75%)]\tLoss: 0.248897\n",
            "Train Epoch:9 [51200/60000 (85%)]\tLoss: 0.151720\n",
            "Train Epoch:9 [57600/60000 (96%)]\tLoss: 0.211352\n",
            "\n",
            "Test set: Average loss: 0.2806, Accuracy: 9065/10000 (91%)\n",
            "\n",
            "==================================================\n",
            "Train Epoch:10 [0/60000 (0%)]\tLoss: 0.196336\n",
            "Train Epoch:10 [6400/60000 (11%)]\tLoss: 0.216931\n",
            "Train Epoch:10 [12800/60000 (21%)]\tLoss: 0.192038\n",
            "Train Epoch:10 [19200/60000 (32%)]\tLoss: 0.348159\n",
            "Train Epoch:10 [25600/60000 (43%)]\tLoss: 0.206118\n",
            "Train Epoch:10 [32000/60000 (53%)]\tLoss: 0.250853\n",
            "Train Epoch:10 [38400/60000 (64%)]\tLoss: 0.148379\n",
            "Train Epoch:10 [44800/60000 (75%)]\tLoss: 0.146592\n",
            "Train Epoch:10 [51200/60000 (85%)]\tLoss: 0.196641\n",
            "Train Epoch:10 [57600/60000 (96%)]\tLoss: 0.131037\n",
            "\n",
            "Test set: Average loss: 0.3113, Accuracy: 9048/10000 (90%)\n",
            "\n",
            "==================================================\n"
          ]
        }
      ]
    }
  ]
}
