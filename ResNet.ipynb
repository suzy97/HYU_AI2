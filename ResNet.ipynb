{
  "nbformat": 4,
  "nbformat_minor": 0,
  "metadata": {
    "colab": {
      "provenance": [],
      "gpuType": "T4",
      "authorship_tag": "ABX9TyN7cYCVZo/khH6Ezm5K0Vyp",
      "include_colab_link": true
    },
    "kernelspec": {
      "name": "python3",
      "display_name": "Python 3"
    },
    "language_info": {
      "name": "python"
    },
    "accelerator": "GPU"
  },
  "cells": [
    {
      "cell_type": "markdown",
      "metadata": {
        "id": "view-in-github",
        "colab_type": "text"
      },
      "source": [
        "<a href=\"https://colab.research.google.com/github/suzy97/HYU_AI2/blob/main/ResNet.ipynb\" target=\"_parent\"><img src=\"https://colab.research.google.com/assets/colab-badge.svg\" alt=\"Open In Colab\"/></a>"
      ]
    },
    {
      "cell_type": "code",
      "execution_count": 2,
      "metadata": {
        "colab": {
          "base_uri": "https://localhost:8080/"
        },
        "id": "-yIbCMEAYVzQ",
        "outputId": "89a4b286-58a5-4bb0-b41b-607e13411eff"
      },
      "outputs": [
        {
          "output_type": "stream",
          "name": "stdout",
          "text": [
            "Colab only includes TensorFlow 2.x; %tensorflow_version has no effect.\n",
            "2.13.0\n"
          ]
        }
      ],
      "source": [
        "try:\n",
        "  %tensorflow_version 2.x\n",
        "except Exception:\n",
        "  pass\n",
        "import tensorflow as tf\n",
        "print(tf.__version__) # 2.4.1\n",
        "\n",
        "import numpy as np\n",
        "import os"
      ]
    },
    {
      "cell_type": "code",
      "source": [
        "BATCH_SIZE = 128 #64에서 128로 변경\n",
        "SHUFFLE_BUFFER_SIZE = 100\n",
        "IMAGE_WIDTH = 32\n",
        "IMAGE_HEIGHT = 32\n",
        "NUM_CLASSES = 10\n",
        "CHANNELS = 3"
      ],
      "metadata": {
        "id": "eUysqpIXdgqU"
      },
      "execution_count": 3,
      "outputs": []
    },
    {
      "cell_type": "code",
      "source": [
        "from keras.datasets import cifar10\n",
        "\n",
        "def generate_datasets():\n",
        "  (X_train, y_train), (X_test, y_test) = cifar10.load_data() # cifar 10 데이터셋 로드\n",
        "  X_test, y_test = resize_and_rescale(X_test, y_test)\n",
        "  X_train, y_train = augment(X_train, y_train)\n",
        "  return X_train, y_train, X_test, y_test\n",
        "\n",
        "def resize_and_rescale(image, label):\n",
        "  image = tf.cast(image, tf.float32)\n",
        "  image = tf.image.resize(image, [IMAGE_WIDTH, IMAGE_HEIGHT])\n",
        "  if os.path.exists('pixel_mean_value.npy'):\n",
        "    mean_image = np.load('pixel_mean_value.npy')\n",
        "  else:\n",
        "    mean_image = np.mean(image, axis=0)\n",
        "  image -= mean_image\n",
        "  image = (image / 128.0)\n",
        "  return image, label\n",
        "\n",
        "def augment(image,label):\n",
        "  image, label = resize_and_rescale(image, label)\n",
        "  # Add 4 pixels of padding\n",
        "  image = tf.map_fn(lambda img: tf.image.resize_with_crop_or_pad(img, IMAGE_WIDTH + 4, IMAGE_HEIGHT + 4), image)\n",
        "   # Random crop back to the original size\n",
        "  image = tf.map_fn(lambda img: tf.image.random_crop(img, size=[IMAGE_WIDTH, IMAGE_HEIGHT, 3]), image)\n",
        "  image = tf.map_fn(lambda img: tf.image.random_flip_left_right(img), image)\n",
        "  return image, label"
      ],
      "metadata": {
        "id": "G_CRkb0BdiSC"
      },
      "execution_count": 4,
      "outputs": []
    },
    {
      "cell_type": "code",
      "source": [
        "class BasicBlock(tf.keras.layers.Layer):\n",
        "  def __init__(self, filter_num, stride=1):\n",
        "    super(BasicBlock, self).__init__()\n",
        "    initializer = tf.keras.initializers.HeNormal()\n",
        "    l2 = tf.keras.regularizers.l2(0.0001)\n",
        "    self.conv1 = tf.keras.layers.Conv2D(filters=filter_num, kernel_size=(3,3), strides=stride, padding='same', kernel_regularizer=l2, kernel_initializer=initializer)\n",
        "    self.bn1 = tf.keras.layers.BatchNormalization()\n",
        "    self.conv2 = tf.keras.layers.Conv2D(filters=filter_num, kernel_size=(3,3), strides=1, padding='same', kernel_regularizer=l2, kernel_initializer=initializer)\n",
        "    self.bn2 = tf.keras.layers.BatchNormalization()\n",
        "    if stride != 1:\n",
        "      self.downsample = tf.keras.Sequential()\n",
        "      self.downsample.add(tf.keras.layers.Conv2D(filters=filter_num, kernel_size=(1,1), strides=stride, kernel_regularizer=l2, kernel_initializer=initializer))\n",
        "      self.downsample.add(tf.keras.layers.BatchNormalization())\n",
        "    else:\n",
        "      self.downsample = lambda x: x\n",
        "\n",
        "  def call(self, inputs, **kwargs):\n",
        "    residual = self.downsample(inputs)\n",
        "\n",
        "    x = self.conv1(inputs)\n",
        "    x = self.bn1(x)\n",
        "    x = tf.nn.relu(x)\n",
        "    x = self.conv2(x)\n",
        "    x = self.bn2(x)\n",
        "\n",
        "    output = tf.nn.relu(tf.keras.layers.add([residual, x]))\n",
        "\n",
        "    return output\n",
        "\n",
        "\n",
        "def make_basic_block_layer(filter_num, blocks, stride=1):\n",
        "  res_block = tf.keras.Sequential()\n",
        "  res_block.add(BasicBlock(filter_num, stride=stride))\n",
        "\n",
        "  for _ in range(1, blocks):\n",
        "    res_block.add(BasicBlock(filter_num, stride=1))\n",
        "\n",
        "  return res_block\n",
        "\n",
        "\n",
        "class ResNet(tf.keras.Model):\n",
        "  def __init__(self, layer_params):\n",
        "    super(ResNet, self).__init__()\n",
        "    initializer = tf.keras.initializers.HeNormal()\n",
        "    l2 = tf.keras.regularizers.l2(0.0001)\n",
        "    self.conv1 = tf.keras.layers.Conv2D(filters=16, kernel_size=(3, 3), strides=1, padding='same', kernel_regularizer=l2, kernel_initializer=initializer)\n",
        "    self.bn1 = tf.keras.layers.BatchNormalization()\n",
        "    self.layer1 = make_basic_block_layer(filter_num=16, blocks=layer_params[0], stride=2)\n",
        "    self.layer2 = make_basic_block_layer(filter_num=32, blocks=layer_params[1], stride=2)\n",
        "    self.layer3 = make_basic_block_layer(filter_num=64, blocks=layer_params[2], stride=2)\n",
        "    #self.layer4 = make_basic_block_layer(filter_num=64, blocks=layer_params[3], stride=2) #임의로 추가\n",
        "    self.avgpool = tf.keras.layers.GlobalAveragePooling2D()\n",
        "    self.fc = tf.keras.layers.Dense(units=NUM_CLASSES, activation=tf.keras.activations.softmax, kernel_regularizer=l2, kernel_initializer=initializer)\n",
        "\n",
        "  def call(self, inputs):\n",
        "    x = self.conv1(inputs)\n",
        "    x = self.bn1(x)\n",
        "    x = tf.nn.relu(x)\n",
        "    x = self.layer1(x)\n",
        "    x = self.layer2(x)\n",
        "    x = self.layer3(x)\n",
        "    #x = self.layer4(x)\n",
        "    x = self.avgpool(x)\n",
        "    output = self.fc(x)\n",
        "\n",
        "    return output\n",
        "\n",
        "def get_model():\n",
        "  model = ResNet(layer_params=[3, 3, 3])\n",
        "  model.build(input_shape=(None, IMAGE_WIDTH, IMAGE_HEIGHT, CHANNELS))\n",
        "  model.compile(optimizer=tf.keras.optimizers.SGD(lr=0.1, momentum=0.9, nesterov=False), loss='sparse_categorical_crossentropy', metrics=['accuracy'])\n",
        "  model.summary()\n",
        "  return model"
      ],
      "metadata": {
        "id": "c65ZmBwVdk_d"
      },
      "execution_count": 5,
      "outputs": []
    },
    {
      "cell_type": "code",
      "source": [
        "X_train, y_train, X_test, y_test = generate_datasets()"
      ],
      "metadata": {
        "id": "FzUQS7-bdnS6"
      },
      "execution_count": 6,
      "outputs": []
    },
    {
      "cell_type": "code",
      "source": [
        "print('train input shape: ', X_train.shape)\n",
        "print('test input shape: ', X_test.shape)\n",
        "print('train output shape: ', y_train.shape)\n",
        "print('train oupput shape: ', y_train.shape)"
      ],
      "metadata": {
        "colab": {
          "base_uri": "https://localhost:8080/"
        },
        "id": "bznXRzKrdpPj",
        "outputId": "f318f54e-f01f-44a6-da71-ec98d1d4895d"
      },
      "execution_count": 7,
      "outputs": [
        {
          "output_type": "stream",
          "name": "stdout",
          "text": [
            "train input shape:  (50000, 32, 32, 3)\n",
            "test input shape:  (10000, 32, 32, 3)\n",
            "train output shape:  (50000, 1)\n",
            "train oupput shape:  (50000, 1)\n"
          ]
        }
      ]
    },
    {
      "cell_type": "code",
      "source": [
        "model = get_model()"
      ],
      "metadata": {
        "colab": {
          "base_uri": "https://localhost:8080/"
        },
        "id": "fAuM7zsudpee",
        "outputId": "3b0517af-00ba-4db9-e83d-6d161988b712"
      },
      "execution_count": 8,
      "outputs": [
        {
          "output_type": "stream",
          "name": "stderr",
          "text": [
            "/usr/local/lib/python3.10/dist-packages/keras/src/initializers/initializers.py:120: UserWarning: The initializer HeNormal is unseeded and being called multiple times, which will return identical values each time (even if the initializer is unseeded). Please update your code to provide a seed to the initializer, or avoid using the same initializer instance more than once.\n",
            "  warnings.warn(\n",
            "WARNING:absl:`lr` is deprecated in Keras optimizer, please use `learning_rate` or use the legacy optimizer, e.g.,tf.keras.optimizers.legacy.SGD.\n"
          ]
        },
        {
          "output_type": "stream",
          "name": "stdout",
          "text": [
            "Model: \"res_net\"\n",
            "_________________________________________________________________\n",
            " Layer (type)                Output Shape              Param #   \n",
            "=================================================================\n",
            " conv2d (Conv2D)             multiple                  448       \n",
            "                                                                 \n",
            " batch_normalization (Batch  multiple                  64        \n",
            " Normalization)                                                  \n",
            "                                                                 \n",
            " sequential (Sequential)     (None, 16, 16, 16)        14640     \n",
            "                                                                 \n",
            " sequential_2 (Sequential)   (None, 8, 8, 32)          52320     \n",
            "                                                                 \n",
            " sequential_4 (Sequential)   (None, 4, 4, 64)          207040    \n",
            "                                                                 \n",
            " global_average_pooling2d (  multiple                  0         \n",
            " GlobalAveragePooling2D)                                         \n",
            "                                                                 \n",
            " dense (Dense)               multiple                  650       \n",
            "                                                                 \n",
            "=================================================================\n",
            "Total params: 275162 (1.05 MB)\n",
            "Trainable params: 273562 (1.04 MB)\n",
            "Non-trainable params: 1600 (6.25 KB)\n",
            "_________________________________________________________________\n"
          ]
        }
      ]
    },
    {
      "cell_type": "code",
      "source": [
        "lr_schedule = tf.keras.callbacks.ReduceLROnPlateau(monitor='val_loss', factor=0.1, patience=2, min_lr=0.001)\n",
        "early_stopping = tf.keras.callbacks.EarlyStopping(patience=3, monitor='val_loss')\n",
        "\n",
        "history = model.fit(X_train, y_train, epochs=20, validation_split=0.1, batch_size=BATCH_SIZE, callbacks=[lr_schedule, early_stopping]) #epoch 를 180 에서 5로 조정"
      ],
      "metadata": {
        "colab": {
          "base_uri": "https://localhost:8080/"
        },
        "id": "yaFjXU_cduND",
        "outputId": "c7f53b39-0174-488f-a62a-3b49a2897f01"
      },
      "execution_count": 10,
      "outputs": [
        {
          "output_type": "stream",
          "name": "stdout",
          "text": [
            "Epoch 1/20\n",
            "352/352 [==============================] - 8s 22ms/step - loss: 1.0371 - accuracy: 0.6876 - val_loss: 1.3198 - val_accuracy: 0.6022 - lr: 0.0100\n",
            "Epoch 2/20\n",
            "352/352 [==============================] - 6s 17ms/step - loss: 0.9663 - accuracy: 0.7135 - val_loss: 1.2450 - val_accuracy: 0.6236 - lr: 0.0100\n",
            "Epoch 3/20\n",
            "352/352 [==============================] - 7s 20ms/step - loss: 0.9031 - accuracy: 0.7384 - val_loss: 1.2657 - val_accuracy: 0.6340 - lr: 0.0100\n",
            "Epoch 4/20\n",
            "352/352 [==============================] - 7s 19ms/step - loss: 0.8342 - accuracy: 0.7619 - val_loss: 1.2920 - val_accuracy: 0.6356 - lr: 0.0100\n",
            "Epoch 5/20\n",
            "352/352 [==============================] - 6s 18ms/step - loss: 0.6494 - accuracy: 0.8370 - val_loss: 1.1099 - val_accuracy: 0.6828 - lr: 0.0010\n",
            "Epoch 6/20\n",
            "352/352 [==============================] - 7s 19ms/step - loss: 0.5670 - accuracy: 0.8710 - val_loss: 1.1297 - val_accuracy: 0.6828 - lr: 0.0010\n",
            "Epoch 7/20\n",
            "352/352 [==============================] - 6s 18ms/step - loss: 0.5316 - accuracy: 0.8846 - val_loss: 1.1498 - val_accuracy: 0.6828 - lr: 0.0010\n",
            "Epoch 8/20\n",
            "352/352 [==============================] - 7s 19ms/step - loss: 0.5019 - accuracy: 0.8950 - val_loss: 1.1801 - val_accuracy: 0.6794 - lr: 0.0010\n"
          ]
        }
      ]
    },
    {
      "cell_type": "code",
      "source": [
        "import matplotlib.pyplot as plt\n",
        "\n",
        "plt.figure(figsize=(12, 4))\n",
        "\n",
        "plt.subplot(1, 2, 1)\n",
        "plt.plot(history.history['loss'], 'b-', label='loss')\n",
        "plt.plot(history.history['val_loss'], 'r--', label='val_loss')\n",
        "plt.ylim(0, 3)\n",
        "plt.xlabel('Epoch')\n",
        "plt.legend()\n",
        "\n",
        "plt.subplot(1, 2, 2)\n",
        "plt.plot(history.history['accuracy'], 'b-', label='accuracy')\n",
        "plt.plot(history.history['val_accuracy'], 'r--', label='val_accuracy')\n",
        "plt.xlabel('Epoch')\n",
        "plt.legend()\n",
        "\n",
        "plt.show()"
      ],
      "metadata": {
        "colab": {
          "base_uri": "https://localhost:8080/",
          "height": 393
        },
        "id": "bq1vjPc1dvoN",
        "outputId": "eec191a6-6d10-4c75-8ca6-5655b5e9f2b5"
      },
      "execution_count": 11,
      "outputs": [
        {
          "output_type": "display_data",
          "data": {
            "text/plain": [
              "<Figure size 1200x400 with 2 Axes>"
            ],
            "image/png": "[encoded data removed]"
          },
          "metadata": {}
        }
      ]
    },
    {
      "cell_type": "code",
      "source": [
        "model.evaluate(X_test, y_test, verbose=0) # [loss, accuracy]"
      ],
      "metadata": {
        "colab": {
          "base_uri": "https://localhost:8080/"
        },
        "id": "JrdYLWFDdwdu",
        "outputId": "64b21863-1000-444b-c581-bcc031d9432f"
      },
      "execution_count": 12,
      "outputs": [
        {
          "output_type": "execute_result",
          "data": {
            "text/plain": [
              "[1.1826999187469482, 0.6783999800682068]"
            ]
          },
          "metadata": {},
          "execution_count": 12
        }
      ]
    },
    {
      "cell_type": "code",
      "source": [
        "# 모델 다운로드\n",
        "model.save_weights('ResNet_20.h5') # 모델을 코랩에 저장\n",
        "\n",
        "from google.colab import files\n",
        "files.download('ResNet_20.h5')# 코랩에 저장된 모델을 로컬로 다운로드"
      ],
      "metadata": {
        "colab": {
          "base_uri": "https://localhost:8080/",
          "height": 17
        },
        "id": "bQKYikqZdxsA",
        "outputId": "b6e53e17-7283-4235-ab23-0b3e2017a647"
      },
      "execution_count": 13,
      "outputs": [
        {
          "output_type": "display_data",
          "data": {
            "text/plain": [
              "<IPython.core.display.Javascript object>"
            ],
            "application/javascript": [
              "\n",
              "    async function download(id, filename, size) {\n",
              "      if (!google.colab.kernel.accessAllowed) {\n",
              "        return;\n",
              "      }\n",
              "      const div = document.createElement('div');\n",
              "      const label = document.createElement('label');\n",
              "      label.textContent = `Downloading \"${filename}\": `;\n",
              "      div.appendChild(label);\n",
              "      const progress = document.createElement('progress');\n",
              "      progress.max = size;\n",
              "      div.appendChild(progress);\n",
              "      document.body.appendChild(div);\n",
              "\n",
              "      const buffers = [];\n",
              "      let downloaded = 0;\n",
              "\n",
              "      const channel = await google.colab.kernel.comms.open(id);\n",
              "      // Send a message to notify the kernel that we're ready.\n",
              "      channel.send({})\n",
              "\n",
              "      for await (const message of channel.messages) {\n",
              "        // Send a message to notify the kernel that we're ready.\n",
              "        channel.send({})\n",
              "        if (message.buffers) {\n",
              "          for (const buffer of message.buffers) {\n",
              "            buffers.push(buffer);\n",
              "            downloaded += buffer.byteLength;\n",
              "            progress.value = downloaded;\n",
              "          }\n",
              "        }\n",
              "      }\n",
              "      const blob = new Blob(buffers, {type: 'application/binary'});\n",
              "      const a = document.createElement('a');\n",
              "      a.href = window.URL.createObjectURL(blob);\n",
              "      a.download = filename;\n",
              "      div.appendChild(a);\n",
              "      a.click();\n",
              "      div.remove();\n",
              "    }\n",
              "  "
            ]
          },
          "metadata": {}
        },
        {
          "output_type": "display_data",
          "data": {
            "text/plain": [
              "<IPython.core.display.Javascript object>"
            ],
            "application/javascript": [
              "download(\"download_ea5c81d7-061c-452b-a420-60b397c512df\", \"ResNet_20.h5\", 1215296)"
            ]
          },
          "metadata": {}
        }
      ]
    },
    {
      "cell_type": "code",
      "source": [],
      "metadata": {
        "id": "ucfAAgeZdyLv"
      },
      "execution_count": null,
      "outputs": []
    }
  ]
}